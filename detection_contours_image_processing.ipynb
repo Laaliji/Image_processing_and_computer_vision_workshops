{
  "cells": [
    {
      "cell_type": "markdown",
      "metadata": {
        "id": "view-in-github",
        "colab_type": "text"
      },
      "source": [
        "<a href=\"https://colab.research.google.com/github/Laaliji/Image_processing_and_computer_vision_workshops/blob/main/detection_contours_image_processing.ipynb\" target=\"_parent\"><img src=\"https://colab.research.google.com/assets/colab-badge.svg\" alt=\"Open In Colab\"/></a>"
      ]
    },
    {
      "cell_type": "markdown",
      "id": "49cdbef2-5f75-4b10-9988-aa15bf746693",
      "metadata": {
        "id": "49cdbef2-5f75-4b10-9988-aa15bf746693"
      },
      "source": [
        "## **Détéction de contours**"
      ]
    },
    {
      "cell_type": "markdown",
      "id": "d15c29dc-71d1-4583-a949-c268912dae92",
      "metadata": {
        "id": "d15c29dc-71d1-4583-a949-c268912dae92"
      },
      "source": [
        "### **Importation des bibliothèques**"
      ]
    },
    {
      "cell_type": "markdown",
      "id": "9167b8e4",
      "metadata": {
        "id": "9167b8e4"
      },
      "source": [
        "### **Importation des bibliothèques**\n",
        "Cette section importe les bibliothèques nécessaires pour la manipulation des images et leur affichage."
      ]
    },
    {
      "cell_type": "code",
      "execution_count": null,
      "id": "416c5a77-17ee-42d4-abdf-4cb31b76e69a",
      "metadata": {
        "id": "416c5a77-17ee-42d4-abdf-4cb31b76e69a"
      },
      "outputs": [],
      "source": [
        "import numpy as np\n",
        "import matplotlib.pyplot as plt"
      ]
    },
    {
      "cell_type": "markdown",
      "id": "ce22cdbc-2651-4c2b-8239-d5aef0a25bf3",
      "metadata": {
        "id": "ce22cdbc-2651-4c2b-8239-d5aef0a25bf3"
      },
      "source": [
        "### **Création de l'image**"
      ]
    },
    {
      "cell_type": "markdown",
      "id": "b2c833ef",
      "metadata": {
        "id": "b2c833ef"
      },
      "source": [
        "### **Création de l'image**\n",
        "Cette fonction crée une image de 300x200 pixels avec différentes zones colorées.\n",
        "- **Initialisation:** Une image blanche (255, 255, 255) est créée avec np.ones((200, 300, 3)) * 255.\n",
        "- **Echelles:** Les dimensions sont définies dans une grille abstraite (20x18 unités) et converties en pixels (300/20 pour x, 200/18 pour y).\n",
        "- **Couleurs:** Des tableaux NumPy définissent les couleurs RGB (rouge, jaune, orange, noir, vert, bleu).\n",
        "- **Formes dessinées**:\n",
        "    * Trois rectangles en haut : Rouge (5x8 unités), jaune (5x8), et orange (5x8), séparés par un espace de 1 unité.\n",
        "    * Bande noire : Une bande horizontale de 2 unités de hauteur sous les rectangles.\n",
        "    * Rectangle vert : Un rectangle central (10x10 unités) sous la bande noire.\n",
        "    * Deux rectangles bleus : Un à gauche et un à droite (5x5 unités chacun), séparés du vert par un espace de 3 unités en bas.\n",
        "\n",
        "L'image est construite en assignant les couleurs aux bonnes zones de pixels."
      ]
    },
    {
      "cell_type": "code",
      "execution_count": null,
      "id": "1fffdbf5-82b9-4215-8683-71641132d1b6",
      "metadata": {
        "id": "1fffdbf5-82b9-4215-8683-71641132d1b6"
      },
      "outputs": [],
      "source": [
        "# 1) Création de l'image A (300x200 pixels)\n",
        "def creer_image_A():\n",
        "    # Création d'une image blanche\n",
        "    image_A = np.ones((200, 300, 3), dtype=np.uint8) * 255\n",
        "\n",
        "    # Dimensions de l'image selon le schéma\n",
        "    largeur_totale = 20\n",
        "    hauteur_totale = 18\n",
        "\n",
        "    # Facteurs d'échelle pour convertir les unités du schéma en pixels\n",
        "    echelle_x = 300 / largeur_totale\n",
        "    echelle_y = 200 / hauteur_totale\n",
        "\n",
        "    # Couleurs\n",
        "    rouge = np.array([255, 0, 0], dtype=np.uint8)\n",
        "    jaune = np.array([255, 255, 0], dtype=np.uint8)\n",
        "    orange = np.array([255, 120, 0], dtype=np.uint8)\n",
        "    noir = np.array([0, 0, 0], dtype=np.uint8)\n",
        "    vert = np.array([0, 255, 0], dtype=np.uint8)\n",
        "    bleu = np.array([0, 0, 255], dtype=np.uint8)\n",
        "\n",
        "    # Dimensions d'après le schéma\n",
        "    rect_haut_largeur = int(5 * echelle_x)\n",
        "    rect_haut_hauteur = int(8 * echelle_y)\n",
        "    espace_entre_rect = int(1 * echelle_x)\n",
        "    bande_noire_hauteur = int(2 * echelle_y)\n",
        "    rect_vert_largeur = int(10 * echelle_x)\n",
        "    rect_vert_hauteur = int(10 * echelle_y)\n",
        "    rect_bleu_largeur = int(5 * echelle_x)\n",
        "    rect_bleu_hauteur = int(5 * echelle_y)\n",
        "    espace_bas = int(3 * echelle_y)\n",
        "\n",
        "    # Dessiner les trois rectangles du haut (rouge, jaune, orange)\n",
        "    # Rectangle rouge\n",
        "    debut_x = 0\n",
        "    debut_y = 0\n",
        "    image_A[debut_y:debut_y+rect_haut_hauteur, debut_x:debut_x+rect_haut_largeur] = rouge\n",
        "\n",
        "    # Rectangle jaune\n",
        "    debut_x = rect_haut_largeur + espace_entre_rect\n",
        "    image_A[debut_y:debut_y+rect_haut_hauteur, debut_x:debut_x+rect_haut_largeur] = jaune\n",
        "\n",
        "    # Rectangle orange\n",
        "    debut_x = 2 * rect_haut_largeur + 2 * espace_entre_rect\n",
        "    image_A[debut_y:debut_y+rect_haut_hauteur, debut_x:debut_x+rect_haut_largeur] = orange\n",
        "\n",
        "    # Bande noire\n",
        "    debut_y = rect_haut_hauteur\n",
        "    image_A[debut_y:debut_y+bande_noire_hauteur, :] = noir\n",
        "\n",
        "    # Position Y après la bande noire\n",
        "    debut_y = rect_haut_hauteur + bande_noire_hauteur\n",
        "\n",
        "    # Rectangle vert central\n",
        "    rect_vert_x = rect_haut_largeur\n",
        "    rect_vert_y = debut_y\n",
        "    image_A[rect_vert_y:rect_vert_y+rect_vert_hauteur, rect_vert_x:rect_vert_x+rect_vert_largeur] = vert\n",
        "\n",
        "    # Rectangle bleu gauche\n",
        "    rect_bleu_gauche_x = 0\n",
        "    rect_bleu_gauche_y = debut_y + espace_bas\n",
        "    image_A[rect_bleu_gauche_y:rect_bleu_gauche_y+rect_bleu_hauteur, rect_bleu_gauche_x:rect_bleu_gauche_x+rect_bleu_largeur] = bleu\n",
        "\n",
        "    # Rectangle bleu droit\n",
        "    rect_bleu_droit_x = rect_haut_largeur + rect_vert_largeur\n",
        "    rect_bleu_droit_y = debut_y + espace_bas\n",
        "    image_A[rect_bleu_droit_y:rect_bleu_droit_y+rect_bleu_hauteur, rect_bleu_droit_x:rect_bleu_droit_x+rect_bleu_largeur] = bleu\n",
        "\n",
        "    return image_A"
      ]
    },
    {
      "cell_type": "markdown",
      "id": "0c95b2b1-d84c-4f7f-94d9-1653cb202e87",
      "metadata": {
        "id": "0c95b2b1-d84c-4f7f-94d9-1653cb202e87"
      },
      "source": [
        "### **Création du négatif de l'image**"
      ]
    },
    {
      "cell_type": "markdown",
      "id": "f43530be-63fe-44cb-93e5-5fd66435b300",
      "metadata": {
        "id": "f43530be-63fe-44cb-93e5-5fd66435b300"
      },
      "source": [
        "- Cette fonction crée le négatif de l'image en soustrayant chaque valeur RGB de 255 (255 - image).\n",
        "- Exemple : Rouge (255, 0, 0) devient cyan (0, 255, 255)."
      ]
    },
    {
      "cell_type": "code",
      "execution_count": null,
      "id": "e03b0ef0-5da5-4b1e-9ddf-0312f7c24674",
      "metadata": {
        "id": "e03b0ef0-5da5-4b1e-9ddf-0312f7c24674"
      },
      "outputs": [],
      "source": [
        "# 2) Créer le négatif de l'image A\n",
        "def negatif(image):\n",
        "    return 255 - image"
      ]
    },
    {
      "cell_type": "markdown",
      "id": "de34c465-7466-43c3-a19c-adaefe970fa4",
      "metadata": {
        "id": "de34c465-7466-43c3-a19c-adaefe970fa4"
      },
      "source": [
        "### **Conversion en niveaux de gris selon la formule de la CIE**"
      ]
    },
    {
      "cell_type": "markdown",
      "id": "a66a15fb-2e81-491d-bded-4e0a21764c48",
      "metadata": {
        "id": "a66a15fb-2e81-491d-bded-4e0a21764c48"
      },
      "source": [
        "- Transforme l'image RGB en niveaux de gris selon la formule CIE :\n",
        "   * `Gris = 0,2125 × R + 0,7154 × G + 0,0721 × B`.\n",
        "- Les composantes R, G, B sont extraites, la formule est appliquée, et le résultat est converti en uint8 (valeurs de 0 à 255).\n",
        "- L'image devient un tableau 2D (un seul canal au lieu de trois)."
      ]
    },
    {
      "cell_type": "code",
      "execution_count": null,
      "id": "53699090-7f71-4a8b-8c89-45cf68829e19",
      "metadata": {
        "id": "53699090-7f71-4a8b-8c89-45cf68829e19"
      },
      "outputs": [],
      "source": [
        "# 3) Fonction de conversion en niveaux de gris selon la formule de la CIE\n",
        "def gris(image_rgb):\n",
        "    # Extraction des composantes R, G, B\n",
        "    R = image_rgb[:, :, 0].astype(float)\n",
        "    G = image_rgb[:, :, 1].astype(float)\n",
        "    B = image_rgb[:, :, 2].astype(float)\n",
        "\n",
        "    # Application de la formule : Gris = 0,2125*R + 0,7154*G + 0,0721*B\n",
        "    gris_naturel = 0.2125 * R + 0.7154 * G + 0.0721 * B\n",
        "\n",
        "    # Conversion en uint8 pour l'affichage\n",
        "    gris_uint8 = np.uint8(gris_naturel)\n",
        "\n",
        "    # Création d'une image en niveaux de gris (1 seul canal)\n",
        "    return gris_uint8\n"
      ]
    },
    {
      "cell_type": "markdown",
      "id": "43578487-64ac-45b2-b316-79d902a2f2cf",
      "metadata": {
        "id": "43578487-64ac-45b2-b316-79d902a2f2cf"
      },
      "source": [
        "### **Détection de contours**"
      ]
    },
    {
      "cell_type": "markdown",
      "id": "4273ddc8-aa98-4638-93d3-c841e4b5d78d",
      "metadata": {
        "id": "4273ddc8-aa98-4638-93d3-c841e4b5d78d"
      },
      "source": [
        "Cette partie calcule les gradients pour détecter les bordures dans l'image en niveaux de gris :"
      ]
    },
    {
      "cell_type": "markdown",
      "id": "a1d5fc7c-6fcd-4986-8c1b-c77a272aa818",
      "metadata": {
        "id": "a1d5fc7c-6fcd-4986-8c1b-c77a272aa818"
      },
      "source": [
        "#### Composante horizontale du gradient"
      ]
    },
    {
      "cell_type": "markdown",
      "id": "853ebdc9-7b84-48ba-acdf-2273241a974f",
      "metadata": {
        "id": "853ebdc9-7b84-48ba-acdf-2273241a974f"
      },
      "source": [
        "- Calcule la différence absolue entre chaque pixel et son voisin de droite `(image_int[:, 1:] - image_int[:, :-1])`.\n",
        "- Résultat : met en évidence les changements horizontaux (bords verticaux)."
      ]
    },
    {
      "cell_type": "code",
      "execution_count": null,
      "id": "647b66da-941b-423c-8346-6e02ed444fe0",
      "metadata": {
        "id": "647b66da-941b-423c-8346-6e02ed444fe0"
      },
      "outputs": [],
      "source": [
        "# a) Composante horizontale du gradient\n",
        "def gradientH(image_gris):\n",
        "    # Conversion en type entier pour éviter les problèmes de dépassement\n",
        "    image_int = image_gris.astype(int)\n",
        "\n",
        "    # Création d'un tableau vide pour le gradient horizontal\n",
        "    grad_h = np.zeros_like(image_int)\n",
        "\n",
        "    # Calcul du gradient horizontal (différence avec le pixel à droite)\n",
        "    # Le gradient est calculé de gauche à droite, donc on va jusqu'à l'avant-dernière colonne\n",
        "    grad_h[:, :-1] = np.abs(image_int[:, 1:] - image_int[:, :-1])\n",
        "\n",
        "    return grad_h"
      ]
    },
    {
      "cell_type": "markdown",
      "id": "820dd947-6611-43f4-8cbb-2e93202d5768",
      "metadata": {
        "id": "820dd947-6611-43f4-8cbb-2e93202d5768"
      },
      "source": [
        "#### Composante verticale du gradient"
      ]
    },
    {
      "cell_type": "markdown",
      "id": "3bd2f5fc-bca8-4a50-ab65-cf70ef06e049",
      "metadata": {
        "id": "3bd2f5fc-bca8-4a50-ab65-cf70ef06e049"
      },
      "source": [
        "- Calcule la différence absolue entre chaque pixel et celui en dessous `(image_int[1:, :] - image_int[:-1, :])`.\n",
        "- Résultat : met en évidence les changements verticaux (bords horizontaux)."
      ]
    },
    {
      "cell_type": "code",
      "execution_count": null,
      "id": "c6c05db2-2130-411e-b6f2-243df3e885b3",
      "metadata": {
        "id": "c6c05db2-2130-411e-b6f2-243df3e885b3"
      },
      "outputs": [],
      "source": [
        "# b) Composante verticale du gradient\n",
        "def gradientV(image_gris):\n",
        "    # Conversion en type entier\n",
        "    image_int = image_gris.astype(int)\n",
        "\n",
        "    # Création d'un tableau vide pour le gradient vertical\n",
        "    grad_v = np.zeros_like(image_int)\n",
        "\n",
        "    # Calcul du gradient vertical (différence avec le pixel en dessous)\n",
        "    # Le gradient est calculé de haut en bas, donc on va jusqu'à l'avant-dernière ligne\n",
        "    grad_v[:-1, :] = np.abs(image_int[1:, :] - image_int[:-1, :])\n",
        "\n",
        "    return grad_v"
      ]
    },
    {
      "cell_type": "markdown",
      "id": "0238cd4d-0dd6-451d-9193-151f3d535001",
      "metadata": {
        "id": "0238cd4d-0dd6-451d-9193-151f3d535001"
      },
      "source": [
        "#### Combinaison des gradients et normalisation"
      ]
    },
    {
      "cell_type": "markdown",
      "id": "13a6139a-1684-46f1-aa62-14dd0a1b324e",
      "metadata": {
        "id": "13a6139a-1684-46f1-aa62-14dd0a1b324e"
      },
      "source": [
        "- Combine les gradients horizontal et vertical en prenant le maximum des deux (np.maximum).\n",
        "- Normalise les valeurs entre 0 et 255 pour l'affichage."
      ]
    },
    {
      "cell_type": "code",
      "execution_count": null,
      "id": "62381496-18a6-4d93-aa23-1efc4c467839",
      "metadata": {
        "id": "62381496-18a6-4d93-aa23-1efc4c467839"
      },
      "outputs": [],
      "source": [
        "# d) Combinaison des gradients et normalisation\n",
        "def gradient_global(grad_h, grad_v):\n",
        "    # Calcul de la norme du gradient (approximation: maximum des deux composantes)\n",
        "    # On pourrait aussi utiliser la racine carrée de la somme des carrés: np.sqrt(grad_h**2 + grad_v**2)\n",
        "    grad_global = np.maximum(grad_h, grad_v)\n",
        "\n",
        "    # Normalisation du gradient pour l'affichage\n",
        "    if np.max(grad_global) > 0:  # Éviter la division par zéro\n",
        "        grad_global_norm = (grad_global / np.max(grad_global) * 255).astype(np.uint8)\n",
        "    else:\n",
        "        grad_global_norm = np.zeros_like(grad_global, dtype=np.uint8)\n",
        "\n",
        "    return grad_global_norm"
      ]
    },
    {
      "cell_type": "markdown",
      "id": "78799248-24f6-44e0-ab72-709a3935da33",
      "metadata": {
        "id": "78799248-24f6-44e0-ab72-709a3935da33"
      },
      "source": [
        "### **Programme principal**"
      ]
    },
    {
      "cell_type": "markdown",
      "id": "35fe3500-8f2a-4b76-9cb2-945ba7729879",
      "metadata": {
        "id": "35fe3500-8f2a-4b76-9cb2-945ba7729879"
      },
      "source": [
        "- Appelle toutes les fonctions précédentes dans l'ordre :\n",
        "\n",
        "    * Crée l'image A.\n",
        "    * Génère son négatif.\n",
        "    * Convertit en niveaux de gris (image B).\n",
        "    * Calcule les gradients (horizontal, vertical, global).\n",
        "- Affiche les résultats dans une grille 2x3 avec Matplotlib :\n",
        "    * Première ligne : Image A, son négatif, image B (gris).\n",
        "    * Deuxième ligne : Gradient horizontal, vertical, global."
      ]
    },
    {
      "cell_type": "markdown",
      "id": "6c611956",
      "metadata": {
        "id": "6c611956"
      },
      "source": [
        "### **Affichage de l'image**\n",
        "Utilisation de `matplotlib` pour afficher l'image générée."
      ]
    },
    {
      "cell_type": "code",
      "execution_count": null,
      "id": "ae7e1714-329f-4aca-b85c-5354692a351c",
      "metadata": {
        "id": "ae7e1714-329f-4aca-b85c-5354692a351c",
        "outputId": "2bfc9268-4037-4441-a011-8f5639320c41"
      },
      "outputs": [
        {
          "data": {
            "image/png": "[encoded data removed]",
            "text/plain": [
              "<Figure size 1500x1000 with 6 Axes>"
            ]
          },
          "metadata": {},
          "output_type": "display_data"
        }
      ],
      "source": [
        "# Fonction principale pour traiter et afficher les images\n",
        "def traitement_complet():\n",
        "    # 1) Création de l'image A\n",
        "    image_A = creer_image_A()\n",
        "\n",
        "    # 2) Création du négatif\n",
        "    image_A_negatif = negatif(image_A)\n",
        "\n",
        "    # 3) Conversion en niveaux de gris (image B)\n",
        "    image_B = gris(image_A)\n",
        "\n",
        "    # 4) Détection de contours\n",
        "    # a) Gradient horizontal\n",
        "    grad_h = gradientH(image_B)\n",
        "\n",
        "    # b) Gradient vertical\n",
        "    grad_v = gradientV(image_B)\n",
        "\n",
        "    # d) Gradient global\n",
        "    grad_global_norm = gradient_global(grad_h, grad_v)\n",
        "\n",
        "    # Affichage des résultats\n",
        "    plt.figure(figsize=(15, 10))\n",
        "\n",
        "    # Première ligne: image A et son négatif\n",
        "    plt.subplot(2, 3, 1)\n",
        "    plt.imshow(image_A)\n",
        "    plt.title(\"1) Image A\")\n",
        "    plt.axis('off')\n",
        "\n",
        "    plt.subplot(2, 3, 2)\n",
        "    plt.imshow(image_A_negatif)\n",
        "    plt.title(\"2) Négatif de l'image A\")\n",
        "    plt.axis('off')\n",
        "\n",
        "    plt.subplot(2, 3, 3)\n",
        "    plt.imshow(image_B, cmap='gray')\n",
        "    plt.title(\"3) Image B (niveaux de gris)\")\n",
        "    plt.axis('off')\n",
        "\n",
        "    # Deuxième ligne: gradients\n",
        "    plt.subplot(2, 3, 4)\n",
        "    plt.imshow(grad_h, cmap='gray')\n",
        "    plt.title(\"4a) Gradient horizontal\")\n",
        "    plt.axis('off')\n",
        "\n",
        "    plt.subplot(2, 3, 5)\n",
        "    plt.imshow(grad_v, cmap='gray')\n",
        "    plt.title(\"4b) Gradient vertical\")\n",
        "    plt.axis('off')\n",
        "\n",
        "    plt.subplot(2, 3, 6)\n",
        "    plt.imshow(grad_global_norm, cmap='gray')\n",
        "    plt.title(\"4d) Gradient global\")\n",
        "    plt.axis('off')\n",
        "\n",
        "    plt.tight_layout()\n",
        "    plt.show()\n",
        "\n",
        "# Exécution du programme\n",
        "if __name__ == \"__main__\":\n",
        "    traitement_complet()"
      ]
    }
  ],
  "metadata": {
    "kernelspec": {
      "display_name": "Python (cv_env)",
      "language": "python",
      "name": "cv_env"
    },
    "language_info": {
      "codemirror_mode": {
        "name": "ipython",
        "version": 3
      },
      "file_extension": ".py",
      "mimetype": "text/x-python",
      "name": "python",
      "nbconvert_exporter": "python",
      "pygments_lexer": "ipython3",
      "version": "3.9.21"
    },
    "colab": {
      "provenance": [],
      "include_colab_link": true
    }
  },
  "nbformat": 4,
  "nbformat_minor": 5
}